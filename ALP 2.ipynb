{
  "nbformat": 4,
  "nbformat_minor": 0,
  "metadata": {
    "colab": {
      "provenance": [],
      "gpuType": "T4"
    },
    "kernelspec": {
      "name": "python3",
      "display_name": "Python 3"
    },
    "language_info": {
      "name": "python"
    },
    "accelerator": "GPU",
    "widgets": {
      "application/vnd.jupyter.widget-state+json": {
        "d443cf6083754deebaa2bf4b73d93138": {
          "model_module": "jupyterlab-plotly",
          "model_name": "FigureModel",
          "model_module_version": "^5.24.1",
          "state": {
            "_config": {
              "plotlyServerURL": "https://plot.ly"
            },
            "_data": [
              {
                "line": {
                  "color": "blue"
                },
                "mode": "lines+markers",
                "name": "Temperature",
                "x": [],
                "y": [],
                "type": "scatter",
                "uid": "7b1f0c2c-6af0-45cd-91df-b1d3e68c7659"
              },
              {
                "line": {
                  "color": "green"
                },
                "mode": "lines+markers",
                "name": "Pressure",
                "x": [],
                "y": [],
                "type": "scatter",
                "uid": "48559f5f-dcdb-4243-915e-eb77aef6773e"
              },
              {
                "line": {
                  "color": "orange"
                },
                "mode": "lines+markers",
                "name": "Vibration",
                "x": [],
                "y": [],
                "type": "scatter",
                "uid": "4c369ca9-968e-4dcb-a3c6-501ceabe6860"
              },
              {
                "marker": {
                  "color": "red",
                  "size": 10,
                  "symbol": "x"
                },
                "mode": "markers",
                "name": "Anomaly",
                "x": [],
                "y": [],
                "type": "scatter",
                "uid": "65154532-1ddd-4d14-8647-219b0b56d951"
              }
            ],
            "_dom_classes": [],
            "_js2py_layoutDelta": null,
            "_js2py_pointsCallback": null,
            "_js2py_relayout": null,
            "_js2py_restyle": {},
            "_js2py_traceDeltas": null,
            "_js2py_update": {},
            "_last_layout_edit_id": 1849,
            "_last_trace_edit_id": 1848,
            "_layout": {
              "height": 500,
              "template": {
                "data": {
                  "barpolar": [
                    {
                      "marker": {
                        "line": {
                          "color": "white",
                          "width": 0.5
                        },
                        "pattern": {
                          "fillmode": "overlay",
                          "size": 10,
                          "solidity": 0.2
                        }
                      },
                      "type": "barpolar"
                    }
                  ],
                  "bar": [
                    {
                      "error_x": {
                        "color": "#2a3f5f"
                      },
                      "error_y": {
                        "color": "#2a3f5f"
                      },
                      "marker": {
                        "line": {
                          "color": "white",
                          "width": 0.5
                        },
                        "pattern": {
                          "fillmode": "overlay",
                          "size": 10,
                          "solidity": 0.2
                        }
                      },
                      "type": "bar"
                    }
                  ],
                  "carpet": [
                    {
                      "aaxis": {
                        "endlinecolor": "#2a3f5f",
                        "gridcolor": "#C8D4E3",
                        "linecolor": "#C8D4E3",
                        "minorgridcolor": "#C8D4E3",
                        "startlinecolor": "#2a3f5f"
                      },
                      "baxis": {
                        "endlinecolor": "#2a3f5f",
                        "gridcolor": "#C8D4E3",
                        "linecolor": "#C8D4E3",
                        "minorgridcolor": "#C8D4E3",
                        "startlinecolor": "#2a3f5f"
                      },
                      "type": "carpet"
                    }
                  ],
                  "choropleth": [
                    {
                      "colorbar": {
                        "outlinewidth": 0,
                        "ticks": ""
                      },
                      "type": "choropleth"
                    }
                  ],
                  "contourcarpet": [
                    {
                      "colorbar": {
                        "outlinewidth": 0,
                        "ticks": ""
                      },
                      "type": "contourcarpet"
                    }
                  ],
                  "contour": [
                    {
                      "colorbar": {
                        "outlinewidth": 0,
                        "ticks": ""
                      },
                      "colorscale": [
                        [
                          0,
                          "#0d0887"
                        ],
                        [
                          0.1111111111111111,
                          "#46039f"
                        ],
                        [
                          0.2222222222222222,
                          "#7201a8"
                        ],
                        [
                          0.3333333333333333,
                          "#9c179e"
                        ],
                        [
                          0.4444444444444444,
                          "#bd3786"
                        ],
                        [
                          0.5555555555555556,
                          "#d8576b"
                        ],
                        [
                          0.6666666666666666,
                          "#ed7953"
                        ],
                        [
                          0.7777777777777778,
                          "#fb9f3a"
                        ],
                        [
                          0.8888888888888888,
                          "#fdca26"
                        ],
                        [
                          1,
                          "#f0f921"
                        ]
                      ],
                      "type": "contour"
                    }
                  ],
                  "heatmapgl": [
                    {
                      "colorbar": {
                        "outlinewidth": 0,
                        "ticks": ""
                      },
                      "colorscale": [
                        [
                          0,
                          "#0d0887"
                        ],
                        [
                          0.1111111111111111,
                          "#46039f"
                        ],
                        [
                          0.2222222222222222,
                          "#7201a8"
                        ],
                        [
                          0.3333333333333333,
                          "#9c179e"
                        ],
                        [
                          0.4444444444444444,
                          "#bd3786"
                        ],
                        [
                          0.5555555555555556,
                          "#d8576b"
                        ],
                        [
                          0.6666666666666666,
                          "#ed7953"
                        ],
                        [
                          0.7777777777777778,
                          "#fb9f3a"
                        ],
                        [
                          0.8888888888888888,
                          "#fdca26"
                        ],
                        [
                          1,
                          "#f0f921"
                        ]
                      ],
                      "type": "heatmapgl"
                    }
                  ],
                  "heatmap": [
                    {
                      "colorbar": {
                        "outlinewidth": 0,
                        "ticks": ""
                      },
                      "colorscale": [
                        [
                          0,
                          "#0d0887"
                        ],
                        [
                          0.1111111111111111,
                          "#46039f"
                        ],
                        [
                          0.2222222222222222,
                          "#7201a8"
                        ],
                        [
                          0.3333333333333333,
                          "#9c179e"
                        ],
                        [
                          0.4444444444444444,
                          "#bd3786"
                        ],
                        [
                          0.5555555555555556,
                          "#d8576b"
                        ],
                        [
                          0.6666666666666666,
                          "#ed7953"
                        ],
                        [
                          0.7777777777777778,
                          "#fb9f3a"
                        ],
                        [
                          0.8888888888888888,
                          "#fdca26"
                        ],
                        [
                          1,
                          "#f0f921"
                        ]
                      ],
                      "type": "heatmap"
                    }
                  ],
                  "histogram2dcontour": [
                    {
                      "colorbar": {
                        "outlinewidth": 0,
                        "ticks": ""
                      },
                      "colorscale": [
                        [
                          0,
                          "#0d0887"
                        ],
                        [
                          0.1111111111111111,
                          "#46039f"
                        ],
                        [
                          0.2222222222222222,
                          "#7201a8"
                        ],
                        [
                          0.3333333333333333,
                          "#9c179e"
                        ],
                        [
                          0.4444444444444444,
                          "#bd3786"
                        ],
                        [
                          0.5555555555555556,
                          "#d8576b"
                        ],
                        [
                          0.6666666666666666,
                          "#ed7953"
                        ],
                        [
                          0.7777777777777778,
                          "#fb9f3a"
                        ],
                        [
                          0.8888888888888888,
                          "#fdca26"
                        ],
                        [
                          1,
                          "#f0f921"
                        ]
                      ],
                      "type": "histogram2dcontour"
                    }
                  ],
                  "histogram2d": [
                    {
                      "colorbar": {
                        "outlinewidth": 0,
                        "ticks": ""
                      },
                      "colorscale": [
                        [
                          0,
                          "#0d0887"
                        ],
                        [
                          0.1111111111111111,
                          "#46039f"
                        ],
                        [
                          0.2222222222222222,
                          "#7201a8"
                        ],
                        [
                          0.3333333333333333,
                          "#9c179e"
                        ],
                        [
                          0.4444444444444444,
                          "#bd3786"
                        ],
                        [
                          0.5555555555555556,
                          "#d8576b"
                        ],
                        [
                          0.6666666666666666,
                          "#ed7953"
                        ],
                        [
                          0.7777777777777778,
                          "#fb9f3a"
                        ],
                        [
                          0.8888888888888888,
                          "#fdca26"
                        ],
                        [
                          1,
                          "#f0f921"
                        ]
                      ],
                      "type": "histogram2d"
                    }
                  ],
                  "histogram": [
                    {
                      "marker": {
                        "pattern": {
                          "fillmode": "overlay",
                          "size": 10,
                          "solidity": 0.2
                        }
                      },
                      "type": "histogram"
                    }
                  ],
                  "mesh3d": [
                    {
                      "colorbar": {
                        "outlinewidth": 0,
                        "ticks": ""
                      },
                      "type": "mesh3d"
                    }
                  ],
                  "parcoords": [
                    {
                      "line": {
                        "colorbar": {
                          "outlinewidth": 0,
                          "ticks": ""
                        }
                      },
                      "type": "parcoords"
                    }
                  ],
                  "pie": [
                    {
                      "automargin": true,
                      "type": "pie"
                    }
                  ],
                  "scatter3d": [
                    {
                      "line": {
                        "colorbar": {
                          "outlinewidth": 0,
                          "ticks": ""
                        }
                      },
                      "marker": {
                        "colorbar": {
                          "outlinewidth": 0,
                          "ticks": ""
                        }
                      },
                      "type": "scatter3d"
                    }
                  ],
                  "scattercarpet": [
                    {
                      "marker": {
                        "colorbar": {
                          "outlinewidth": 0,
                          "ticks": ""
                        }
                      },
                      "type": "scattercarpet"
                    }
                  ],
                  "scattergeo": [
                    {
                      "marker": {
                        "colorbar": {
                          "outlinewidth": 0,
                          "ticks": ""
                        }
                      },
                      "type": "scattergeo"
                    }
                  ],
                  "scattergl": [
                    {
                      "marker": {
                        "colorbar": {
                          "outlinewidth": 0,
                          "ticks": ""
                        }
                      },
                      "type": "scattergl"
                    }
                  ],
                  "scattermapbox": [
                    {
                      "marker": {
                        "colorbar": {
                          "outlinewidth": 0,
                          "ticks": ""
                        }
                      },
                      "type": "scattermapbox"
                    }
                  ],
                  "scatterpolargl": [
                    {
                      "marker": {
                        "colorbar": {
                          "outlinewidth": 0,
                          "ticks": ""
                        }
                      },
                      "type": "scatterpolargl"
                    }
                  ],
                  "scatterpolar": [
                    {
                      "marker": {
                        "colorbar": {
                          "outlinewidth": 0,
                          "ticks": ""
                        }
                      },
                      "type": "scatterpolar"
                    }
                  ],
                  "scatter": [
                    {
                      "fillpattern": {
                        "fillmode": "overlay",
                        "size": 10,
                        "solidity": 0.2
                      },
                      "type": "scatter"
                    }
                  ],
                  "scatterternary": [
                    {
                      "marker": {
                        "colorbar": {
                          "outlinewidth": 0,
                          "ticks": ""
                        }
                      },
                      "type": "scatterternary"
                    }
                  ],
                  "surface": [
                    {
                      "colorbar": {
                        "outlinewidth": 0,
                        "ticks": ""
                      },
                      "colorscale": [
                        [
                          0,
                          "#0d0887"
                        ],
                        [
                          0.1111111111111111,
                          "#46039f"
                        ],
                        [
                          0.2222222222222222,
                          "#7201a8"
                        ],
                        [
                          0.3333333333333333,
                          "#9c179e"
                        ],
                        [
                          0.4444444444444444,
                          "#bd3786"
                        ],
                        [
                          0.5555555555555556,
                          "#d8576b"
                        ],
                        [
                          0.6666666666666666,
                          "#ed7953"
                        ],
                        [
                          0.7777777777777778,
                          "#fb9f3a"
                        ],
                        [
                          0.8888888888888888,
                          "#fdca26"
                        ],
                        [
                          1,
                          "#f0f921"
                        ]
                      ],
                      "type": "surface"
                    }
                  ],
                  "table": [
                    {
                      "cells": {
                        "fill": {
                          "color": "#EBF0F8"
                        },
                        "line": {
                          "color": "white"
                        }
                      },
                      "header": {
                        "fill": {
                          "color": "#C8D4E3"
                        },
                        "line": {
                          "color": "white"
                        }
                      },
                      "type": "table"
                    }
                  ]
                },
                "layout": {
                  "annotationdefaults": {
                    "arrowcolor": "#2a3f5f",
                    "arrowhead": 0,
                    "arrowwidth": 1
                  },
                  "autotypenumbers": "strict",
                  "coloraxis": {
                    "colorbar": {
                      "outlinewidth": 0,
                      "ticks": ""
                    }
                  },
                  "colorscale": {
                    "diverging": [
                      [
                        0,
                        "#8e0152"
                      ],
                      [
                        0.1,
                        "#c51b7d"
                      ],
                      [
                        0.2,
                        "#de77ae"
                      ],
                      [
                        0.3,
                        "#f1b6da"
                      ],
                      [
                        0.4,
                        "#fde0ef"
                      ],
                      [
                        0.5,
                        "#f7f7f7"
                      ],
                      [
                        0.6,
                        "#e6f5d0"
                      ],
                      [
                        0.7,
                        "#b8e186"
                      ],
                      [
                        0.8,
                        "#7fbc41"
                      ],
                      [
                        0.9,
                        "#4d9221"
                      ],
                      [
                        1,
                        "#276419"
                      ]
                    ],
                    "sequential": [
                      [
                        0,
                        "#0d0887"
                      ],
                      [
                        0.1111111111111111,
                        "#46039f"
                      ],
                      [
                        0.2222222222222222,
                        "#7201a8"
                      ],
                      [
                        0.3333333333333333,
                        "#9c179e"
                      ],
                      [
                        0.4444444444444444,
                        "#bd3786"
                      ],
                      [
                        0.5555555555555556,
                        "#d8576b"
                      ],
                      [
                        0.6666666666666666,
                        "#ed7953"
                      ],
                      [
                        0.7777777777777778,
                        "#fb9f3a"
                      ],
                      [
                        0.8888888888888888,
                        "#fdca26"
                      ],
                      [
                        1,
                        "#f0f921"
                      ]
                    ],
                    "sequentialminus": [
                      [
                        0,
                        "#0d0887"
                      ],
                      [
                        0.1111111111111111,
                        "#46039f"
                      ],
                      [
                        0.2222222222222222,
                        "#7201a8"
                      ],
                      [
                        0.3333333333333333,
                        "#9c179e"
                      ],
                      [
                        0.4444444444444444,
                        "#bd3786"
                      ],
                      [
                        0.5555555555555556,
                        "#d8576b"
                      ],
                      [
                        0.6666666666666666,
                        "#ed7953"
                      ],
                      [
                        0.7777777777777778,
                        "#fb9f3a"
                      ],
                      [
                        0.8888888888888888,
                        "#fdca26"
                      ],
                      [
                        1,
                        "#f0f921"
                      ]
                    ]
                  },
                  "colorway": [
                    "#636efa",
                    "#EF553B",
                    "#00cc96",
                    "#ab63fa",
                    "#FFA15A",
                    "#19d3f3",
                    "#FF6692",
                    "#B6E880",
                    "#FF97FF",
                    "#FECB52"
                  ],
                  "font": {
                    "color": "#2a3f5f"
                  },
                  "geo": {
                    "bgcolor": "white",
                    "lakecolor": "white",
                    "landcolor": "white",
                    "showlakes": true,
                    "showland": true,
                    "subunitcolor": "#C8D4E3"
                  },
                  "hoverlabel": {
                    "align": "left"
                  },
                  "hovermode": "closest",
                  "mapbox": {
                    "style": "light"
                  },
                  "paper_bgcolor": "white",
                  "plot_bgcolor": "white",
                  "polar": {
                    "angularaxis": {
                      "gridcolor": "#EBF0F8",
                      "linecolor": "#EBF0F8",
                      "ticks": ""
                    },
                    "bgcolor": "white",
                    "radialaxis": {
                      "gridcolor": "#EBF0F8",
                      "linecolor": "#EBF0F8",
                      "ticks": ""
                    }
                  },
                  "scene": {
                    "xaxis": {
                      "backgroundcolor": "white",
                      "gridcolor": "#DFE8F3",
                      "gridwidth": 2,
                      "linecolor": "#EBF0F8",
                      "showbackground": true,
                      "ticks": "",
                      "zerolinecolor": "#EBF0F8"
                    },
                    "yaxis": {
                      "backgroundcolor": "white",
                      "gridcolor": "#DFE8F3",
                      "gridwidth": 2,
                      "linecolor": "#EBF0F8",
                      "showbackground": true,
                      "ticks": "",
                      "zerolinecolor": "#EBF0F8"
                    },
                    "zaxis": {
                      "backgroundcolor": "white",
                      "gridcolor": "#DFE8F3",
                      "gridwidth": 2,
                      "linecolor": "#EBF0F8",
                      "showbackground": true,
                      "ticks": "",
                      "zerolinecolor": "#EBF0F8"
                    }
                  },
                  "shapedefaults": {
                    "line": {
                      "color": "#2a3f5f"
                    }
                  },
                  "ternary": {
                    "aaxis": {
                      "gridcolor": "#DFE8F3",
                      "linecolor": "#A2B1C6",
                      "ticks": ""
                    },
                    "baxis": {
                      "gridcolor": "#DFE8F3",
                      "linecolor": "#A2B1C6",
                      "ticks": ""
                    },
                    "bgcolor": "white",
                    "caxis": {
                      "gridcolor": "#DFE8F3",
                      "linecolor": "#A2B1C6",
                      "ticks": ""
                    }
                  },
                  "title": {
                    "x": 0.05
                  },
                  "xaxis": {
                    "automargin": true,
                    "gridcolor": "#EBF0F8",
                    "linecolor": "#EBF0F8",
                    "ticks": "",
                    "title": {
                      "standoff": 15
                    },
                    "zerolinecolor": "#EBF0F8",
                    "zerolinewidth": 2
                  },
                  "yaxis": {
                    "automargin": true,
                    "gridcolor": "#EBF0F8",
                    "linecolor": "#EBF0F8",
                    "ticks": "",
                    "title": {
                      "standoff": 15
                    },
                    "zerolinecolor": "#EBF0F8",
                    "zerolinewidth": 2
                  }
                }
              },
              "title": {
                "text": "Real-Time IoT Sensor Dashboard"
              },
              "xaxis": {
                "title": {
                  "text": "Time Step"
                }
              },
              "yaxis": {
                "title": {
                  "text": "Sensor Values"
                }
              }
            },
            "_model_module": "jupyterlab-plotly",
            "_model_module_version": "^5.24.1",
            "_model_name": "FigureModel",
            "_py2js_addTraces": {},
            "_py2js_animate": {},
            "_py2js_deleteTraces": {},
            "_py2js_moveTraces": {},
            "_py2js_relayout": null,
            "_py2js_removeLayoutProps": {},
            "_py2js_removeTraceProps": {},
            "_py2js_restyle": null,
            "_py2js_update": {},
            "_view_count": 1,
            "_view_module": "jupyterlab-plotly",
            "_view_module_version": "^5.24.1",
            "_view_name": "FigureView"
          }
        }
      }
    }
  },
  "cells": [
    {
      "cell_type": "code",
      "source": [
        "# 1) Enable third-party widget support in Colab\n",
        "from google.colab import output\n",
        "output.enable_custom_widget_manager()\n",
        "\n",
        "# 2) Imports\n",
        "import time, random, requests\n",
        "import numpy as np\n",
        "import plotly.graph_objs as go\n",
        "from IPython.display import display\n",
        "from sklearn.ensemble import IsolationForest\n",
        "from collections import deque\n",
        "\n",
        "# 3) Configuration\n",
        "TELEGRAM_BOT_TOKEN   = '8058108604:AAFeVgtMm5KOALY8anNihv2vTmHUQbK7b2g'\n",
        "TELEGRAM_CHAT_ID     = '825745351'\n",
        "\n",
        "MAX_WINDOW           = 120    # Number of points shown on graph\n",
        "ANOMALY_INTERVAL     = 30     # Inject anomaly every 30 seconds\n",
        "STREAM_DELAY         = 0.5    # Half-second between readings\n",
        "TOTAL_ITERATIONS     = None   # Set to an int to stop automatically\n",
        "\n",
        "# 4) Telegram alert function\n",
        "def send_telegram_alert(t, p, v):\n",
        "    msg = f\"Anomaly!\\nTemp: {t}°C\\nPressure: {p} bar\\nVibration: {v} Hz\"\n",
        "    url = f\"https://api.telegram.org/bot{TELEGRAM_BOT_TOKEN}/sendMessage\"\n",
        "    requests.post(url, data={'chat_id': TELEGRAM_CHAT_ID, 'text': msg})\n",
        "\n",
        "# 5) Train Isolation Forest on simulated normal data\n",
        "def train_model(n_samples=1000):\n",
        "    X = np.array([\n",
        "        [random.normalvariate(75,3),\n",
        "         random.normalvariate(30,2),\n",
        "         random.normalvariate(10,1)]\n",
        "        for _ in range(n_samples)\n",
        "    ])\n",
        "    m = IsolationForest(contamination=0.01)\n",
        "    m.fit(X)\n",
        "    return m\n",
        "\n",
        "# 6) Simulation + live chart\n",
        "def run_simulation():\n",
        "    model = train_model()\n",
        "\n",
        "    # Buffers\n",
        "    ts = deque(maxlen=MAX_WINDOW)\n",
        "    T  = deque(maxlen=MAX_WINDOW)\n",
        "    P  = deque(maxlen=MAX_WINDOW)\n",
        "    V  = deque(maxlen=MAX_WINDOW)\n",
        "    A  = deque(maxlen=MAX_WINDOW)\n",
        "\n",
        "    # Create FigureWidget with four traces\n",
        "    fig = go.FigureWidget(\n",
        "        data=[\n",
        "            go.Scatter(name='Temperature', x=[], y=[], mode='lines+markers', line=dict(color='blue')),\n",
        "            go.Scatter(name='Pressure',    x=[], y=[], mode='lines+markers', line=dict(color='green')),\n",
        "            go.Scatter(name='Vibration',   x=[], y=[], mode='lines+markers', line=dict(color='orange')),\n",
        "            go.Scatter(name='Anomaly',     x=[], y=[], mode='markers',       marker=dict(color='red', size=10, symbol='x'))\n",
        "        ],\n",
        "        layout=go.Layout(\n",
        "            title=\"Real-Time IoT Sensor Dashboard\",\n",
        "            xaxis_title=\"Time Step\",\n",
        "            yaxis_title=\"Sensor Values\",\n",
        "            template=\"plotly_white\",\n",
        "            height=500\n",
        "        )\n",
        "    )\n",
        "    display(fig)\n",
        "\n",
        "    start_time = time.time()\n",
        "    next_anom = ANOMALY_INTERVAL\n",
        "    i = 0\n",
        "\n",
        "    try:\n",
        "        while TOTAL_ITERATIONS is None or i < TOTAL_ITERATIONS:\n",
        "            elapsed = int(time.time() - start_time)\n",
        "\n",
        "            # Generate sensor readings\n",
        "            temp      = round(random.normalvariate(75,3),2)\n",
        "            pressure  = round(random.normalvariate(30,2),2)\n",
        "            vibration = round(random.normalvariate(10,1),2)\n",
        "\n",
        "            # Inject anomaly every 30 seconds\n",
        "            if elapsed >= next_anom:\n",
        "                temp      += random.uniform(15,25)\n",
        "                pressure  -= random.uniform(5,10)\n",
        "                vibration += random.uniform(10,20)\n",
        "                next_anom += ANOMALY_INTERVAL\n",
        "\n",
        "            # Detect anomaly\n",
        "            is_anom = int(model.predict([[temp, pressure, vibration]])[0] == -1)\n",
        "\n",
        "            # Append to buffers\n",
        "            ts.append(i)\n",
        "            T.append(temp)\n",
        "            P.append(pressure)\n",
        "            V.append(vibration)\n",
        "            A.append(temp if is_anom else np.nan)\n",
        "\n",
        "            # Update traces in place\n",
        "            fig.data[0].x, fig.data[0].y = list(ts), list(T)\n",
        "            fig.data[1].x, fig.data[1].y = list(ts), list(P)\n",
        "            fig.data[2].x, fig.data[2].y = list(ts), list(V)\n",
        "            fig.data[3].x, fig.data[3].y = list(ts), list(A)\n",
        "\n",
        "            # Send alert if anomaly\n",
        "            if is_anom:\n",
        "                print(f\"Anomaly @ step {i}: Temp={temp}, Pressure={pressure}, Vibration={vibration}\")\n",
        "                send_telegram_alert(temp, pressure, vibration)\n",
        "\n",
        "            time.sleep(STREAM_DELAY)\n",
        "            i += 1\n",
        "\n",
        "    except KeyboardInterrupt:\n",
        "        print(f\"\\nSimulation stopped after {i} steps.\")\n",
        "\n",
        "# 7) Start\n",
        "run_simulation()\n"
      ],
      "metadata": {
        "id": "v1_qooJxfGGV",
        "colab": {
          "base_uri": "https://localhost:8080/",
          "height": 656,
          "referenced_widgets": [
            "d443cf6083754deebaa2bf4b73d93138"
          ]
        },
        "outputId": "bca25634-6dfc-4c4e-a962-0830e616dbb2"
      },
      "execution_count": 2,
      "outputs": [
        {
          "output_type": "display_data",
          "data": {
            "application/vnd.jupyter.widget-view+json": {
              "version_major": 2,
              "version_minor": 0,
              "model_id": "d443cf6083754deebaa2bf4b73d93138"
            },
            "text/plain": [
              "FigureWidget({\n",
              "    'data': [{'line': {'color': 'blue'},\n",
              "              'mode': 'lines+markers',\n",
              "              'name': 'Temperature',\n",
              "              'type': 'scatter',\n",
              "              'uid': '7b1f0c2c-6af0-45cd-91df-b1d3e68c7659',\n",
              "              'x': [],\n",
              "              'y': []},\n",
              "             {'line': {'color': 'green'},\n",
              "              'mode': 'lines+markers',\n",
              "              'name': 'Pressure',\n",
              "              'type': 'scatter',\n",
              "              'uid': '48559f5f-dcdb-4243-915e-eb77aef6773e',\n",
              "              'x': [],\n",
              "              'y': []},\n",
              "             {'line': {'color': 'orange'},\n",
              "              'mode': 'lines+markers',\n",
              "              'name': 'Vibration',\n",
              "              'type': 'scatter',\n",
              "              'uid': '4c369ca9-968e-4dcb-a3c6-501ceabe6860',\n",
              "              'x': [],\n",
              "              'y': []},\n",
              "             {'marker': {'color': 'red', 'size': 10, 'symbol': 'x'},\n",
              "              'mode': 'markers',\n",
              "              'name': 'Anomaly',\n",
              "              'type': 'scatter',\n",
              "              'uid': '65154532-1ddd-4d14-8647-219b0b56d951',\n",
              "              'x': [],\n",
              "              'y': []}],\n",
              "    'layout': {'height': 500,\n",
              "               'template': '...',\n",
              "               'title': {'text': 'Real-Time IoT Sensor Dashboard'},\n",
              "               'xaxis': {'title': {'text': 'Time Step'}},\n",
              "               'yaxis': {'title': {'text': 'Sensor Values'}}}\n",
              "})"
            ]
          },
          "metadata": {
            "application/vnd.jupyter.widget-view+json": {
              "colab": {
                "custom_widget_manager": {
                  "url": "https://ssl.gstatic.com/colaboratory-static/widgets/colab-cdn-widget-manager/2b70e893a8ba7c0f/manager.min.js"
                }
              }
            }
          }
        },
        {
          "output_type": "stream",
          "name": "stdout",
          "text": [
            "Anomaly @ step 57: Temp=93.14539867901645, Pressure=24.755728900223104, Vibration=24.272712470119053\n",
            "Anomaly @ step 113: Temp=98.3962877543834, Pressure=23.687645106887903, Vibration=21.0742925878448\n",
            "Anomaly @ step 155: Temp=82.43, Pressure=26.37, Vibration=11.01\n",
            "Anomaly @ step 168: Temp=98.3867667176127, Pressure=19.392565372244785, Vibration=22.86649314956402\n",
            "Anomaly @ step 193: Temp=70.12, Pressure=28.3, Vibration=12.39\n",
            "Anomaly @ step 223: Temp=92.45812124495009, Pressure=23.29879036864967, Vibration=22.328997452860015\n",
            "\n",
            "Simulation stopped after 230 steps.\n"
          ]
        }
      ]
    }
  ]
}